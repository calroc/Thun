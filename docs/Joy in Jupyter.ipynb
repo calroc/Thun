{
 "cells": [
  {
   "cell_type": "markdown",
   "id": "61944c2e",
   "metadata": {},
   "source": [
    "Using the Joypy (Thun) Jupyter kernal."
   ]
  },
  {
   "cell_type": "code",
   "execution_count": 1,
   "id": "f7bb85e5",
   "metadata": {},
   "outputs": [
    {
     "name": "stdout",
     "output_type": "stream",
     "text": [
      "41"
     ]
    }
   ],
   "source": [
    "23 18 +"
   ]
  },
  {
   "cell_type": "code",
   "execution_count": 2,
   "id": "8d86c75f",
   "metadata": {},
   "outputs": [
    {
     "name": "stdout",
     "output_type": "stream",
     "text": []
    }
   ],
   "source": [
    "clear"
   ]
  },
  {
   "cell_type": "code",
   "execution_count": 3,
   "id": "ff9b5754",
   "metadata": {},
   "outputs": [
    {
     "name": "stdout",
     "output_type": "stream",
     "text": [
      "15"
     ]
    }
   ],
   "source": [
    "45 30 gcd"
   ]
  },
  {
   "cell_type": "code",
   "execution_count": 4,
   "id": "e1027ca3",
   "metadata": {},
   "outputs": [
    {
     "name": "stdout",
     "output_type": "stream",
     "text": []
    }
   ],
   "source": [
    "clear"
   ]
  },
  {
   "cell_type": "code",
   "execution_count": 5,
   "id": "aef6f509",
   "metadata": {},
   "outputs": [
    {
     "name": "stdout",
     "output_type": "stream",
     "text": []
    }
   ],
   "source": [
    "words"
   ]
  },
  {
   "cell_type": "markdown",
   "id": "904ce05e",
   "metadata": {},
   "source": [
    "``trace`` is only loaded in the ``pretty_printer.py`` module, so it's not automatically included in the dictionary in the kernel.\n",
    "\n",
    "Stdout is also not captured and returned to the notebook.  (So ``words`` doesn't work, for example, and neither would ``trace`` if it was available, I imagine.)\n",
    "\n",
    "Also, exceptions (like ``trace`` not being found in the dictionary) lead to the kernal \"hanging\" in the sense that you just see the \"pending computation\" asterix in the notebook cell.\n",
    "\n",
    "This would seem to indicate that I should polish the Joy kernel, eh?"
   ]
  },
  {
   "cell_type": "code",
   "execution_count": 6,
   "id": "f491e33f",
   "metadata": {},
   "outputs": [
    {
     "name": "stdout",
     "output_type": "stream",
     "text": [
      "[1 2 +]"
     ]
    }
   ],
   "source": [
    "[1 2 +]"
   ]
  },
  {
   "cell_type": "code",
   "execution_count": 7,
   "id": "31d6ec54",
   "metadata": {},
   "outputs": [
    {
     "name": "stdout",
     "output_type": "stream",
     "text": [
      "3"
     ]
    }
   ],
   "source": [
    "trace"
   ]
  },
  {
   "cell_type": "code",
   "execution_count": null,
   "id": "b8a3f442",
   "metadata": {},
   "outputs": [],
   "source": []
  }
 ],
 "metadata": {
  "kernelspec": {
   "display_name": "Joypy",
   "language": "",
   "name": "thun"
  },
  "language_info": {
   "file_extension": ".joy",
   "mimetype": "text/plain",
   "name": "Joy"
  }
 },
 "nbformat": 4,
 "nbformat_minor": 5
}
