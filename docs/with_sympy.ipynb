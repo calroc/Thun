{
 "cells": [
  {
   "cell_type": "markdown",
   "metadata": {},
   "source": [
    "# Symbolic Evaluation with SymPy"
   ]
  },
  {
   "cell_type": "code",
   "execution_count": 1,
   "metadata": {},
   "outputs": [],
   "source": [
    "import sympy\n",
    "\n",
    "from joy.joy import run\n",
    "from joy.library import UnaryBuiltinWrapper\n",
    "from joy.utils.pretty_print import TracePrinter\n",
    "from joy.utils.stack import list_to_stack\n",
    "\n",
    "from notebook_preamble import D, J, V, define"
   ]
  },
  {
   "cell_type": "code",
   "execution_count": 2,
   "metadata": {},
   "outputs": [],
   "source": [
    "sympy.init_printing()"
   ]
  },
  {
   "cell_type": "markdown",
   "metadata": {},
   "source": [
    "## [SypPy Symbols](http://docs.sympy.org/latest/modules/core.html#module-sympy.core.symbol)\n",
    "\n",
    "The SymPy package provides a powerful and elegant [\"thunk\"](https://en.wikipedia.org/wiki/Thunk) object that can take the place of a numeric value in calculations and \"record\" the operations performed on it.\n",
    "\n",
    "We can create some of these objects and put them on the Joy stack:"
   ]
  },
  {
   "cell_type": "code",
   "execution_count": 3,
   "metadata": {},
   "outputs": [],
   "source": [
    "stack = list_to_stack(sympy.symbols('c a b'))"
   ]
  },
  {
   "cell_type": "markdown",
   "metadata": {},
   "source": [
    "If we evaluate the `quadratic` program\n",
    "\n",
    "    over [[[neg] dupdip sqr 4] dipd * * - sqrt pm] dip 2 * [/] cons app2\n",
    "\n",
    "The [SypPy Symbols](http://docs.sympy.org/latest/modules/core.html#module-sympy.core.symbol) will become the symbolic expression of the math operations.  Unfortunately, the library `sqrt` function doesn't work with the SymPy objects:"
   ]
  },
  {
   "cell_type": "code",
   "execution_count": 4,
   "metadata": {},
   "outputs": [
    {
     "name": "stdout",
     "output_type": "stream",
     "text": [
      "can't convert expression to float\n",
      "                                            b a c . over [[[neg] dupdip sqr 4] dipd * * - sqrt pm] dip 2 * [/] cons app2\n",
      "                                          b a c a . [[[neg] dupdip sqr 4] dipd * * - sqrt pm] dip 2 * [/] cons app2\n",
      "b a c a [[[neg] dupdip sqr 4] dipd * * - sqrt pm] . dip 2 * [/] cons app2\n",
      "                                            b a c . [[neg] dupdip sqr 4] dipd * * - sqrt pm a 2 * [/] cons app2\n",
      "                       b a c [[neg] dupdip sqr 4] . dipd * * - sqrt pm a 2 * [/] cons app2\n",
      "                                                b . [neg] dupdip sqr 4 a c * * - sqrt pm a 2 * [/] cons app2\n",
      "                                          b [neg] . dupdip sqr 4 a c * * - sqrt pm a 2 * [/] cons app2\n",
      "                                                b . neg b sqr 4 a c * * - sqrt pm a 2 * [/] cons app2\n",
      "                                               -b . b sqr 4 a c * * - sqrt pm a 2 * [/] cons app2\n",
      "                                             -b b . sqr 4 a c * * - sqrt pm a 2 * [/] cons app2\n",
      "                                             -b b . dup mul 4 a c * * - sqrt pm a 2 * [/] cons app2\n",
      "                                           -b b b . mul 4 a c * * - sqrt pm a 2 * [/] cons app2\n",
      "                                          -b b**2 . 4 a c * * - sqrt pm a 2 * [/] cons app2\n",
      "                                        -b b**2 4 . a c * * - sqrt pm a 2 * [/] cons app2\n",
      "                                      -b b**2 4 a . c * * - sqrt pm a 2 * [/] cons app2\n",
      "                                    -b b**2 4 a c . * * - sqrt pm a 2 * [/] cons app2\n",
      "                                    -b b**2 4 a*c . * - sqrt pm a 2 * [/] cons app2\n",
      "                                    -b b**2 4*a*c . - sqrt pm a 2 * [/] cons app2\n",
      "                                 -b -4*a*c + b**2 . sqrt pm a 2 * [/] cons app2\n"
     ]
    }
   ],
   "source": [
    "viewer = TracePrinter()\n",
    "try:\n",
    "    run('over [[[neg] dupdip sqr 4] dipd * * - sqrt pm] dip 2 * [/] cons app2', stack, D, viewer.viewer)\n",
    "except Exception, e:\n",
    "    print e\n",
    "viewer.print_()"
   ]
  },
  {
   "cell_type": "markdown",
   "metadata": {},
   "source": [
    "We can pick out that first symbolic expression obect from the Joy stack:"
   ]
  },
  {
   "cell_type": "code",
   "execution_count": 5,
   "metadata": {},
   "outputs": [],
   "source": [
    "S, E = viewer.history[-1]"
   ]
  },
  {
   "cell_type": "code",
   "execution_count": 6,
   "metadata": {},
   "outputs": [
    {
     "data": {
      "image/png": "[encoded data removed]",
      "text/latex": [
       "$$- 4 a c + b^{2}$$"
      ],
      "text/plain": [
       "          2\n",
       "-4⋅a⋅c + b "
      ]
     },
     "execution_count": 6,
     "metadata": {},
     "output_type": "execute_result"
    }
   ],
   "source": [
    "q = S[0]\n",
    "q"
   ]
  },
  {
   "cell_type": "markdown",
   "metadata": {},
   "source": [
    "The Python `math.sqrt()` function causes the \"can't convert expression to float\" exception but `sympy.sqrt()` does not:"
   ]
  },
  {
   "cell_type": "code",
   "execution_count": 7,
   "metadata": {},
   "outputs": [
    {
     "data": {
      "image/png": "[encoded data removed]",
      "text/latex": [
       "$$\\sqrt{- 4 a c + b^{2}}$$"
      ],
      "text/plain": [
       "   _____________\n",
       "  ╱           2 \n",
       "╲╱  -4⋅a⋅c + b  "
      ]
     },
     "execution_count": 7,
     "metadata": {},
     "output_type": "execute_result"
    }
   ],
   "source": [
    "sympy.sqrt(q)"
   ]
  },
  {
   "cell_type": "markdown",
   "metadata": {},
   "source": [
    "## Use `sympy.sqrt`\n",
    "This is easy to fix."
   ]
  },
  {
   "cell_type": "code",
   "execution_count": 8,
   "metadata": {},
   "outputs": [],
   "source": [
    "D['sqrt'] = UnaryBuiltinWrapper(sympy.sqrt)"
   ]
  },
  {
   "cell_type": "markdown",
   "metadata": {},
   "source": [
    "Now it works just fine."
   ]
  },
  {
   "cell_type": "code",
   "execution_count": 9,
   "metadata": {},
   "outputs": [],
   "source": [
    "(root1, (root2, _)) = run('over [[[neg] dupdip sqr 4] dipd * * - sqrt pm] dip 2 * [/] cons app2', stack, D)[0]"
   ]
  },
  {
   "cell_type": "code",
   "execution_count": 10,
   "metadata": {},
   "outputs": [
    {
     "data": {
      "image/png": "[encoded data removed]",
      "text/latex": [
       "$$\\frac{1}{2 a} \\left(- b - \\sqrt{- 4 a c + b^{2}}\\right)$$"
      ],
      "text/plain": [
       "        _____________\n",
       "       ╱           2 \n",
       "-b - ╲╱  -4⋅a⋅c + b  \n",
       "─────────────────────\n",
       "         2⋅a         "
      ]
     },
     "execution_count": 10,
     "metadata": {},
     "output_type": "execute_result"
    }
   ],
   "source": [
    "root1"
   ]
  },
  {
   "cell_type": "code",
   "execution_count": 11,
   "metadata": {},
   "outputs": [
    {
     "data": {
      "image/png": "[encoded data removed]",
      "text/latex": [
       "$$\\frac{1}{2 a} \\left(- b + \\sqrt{- 4 a c + b^{2}}\\right)$$"
      ],
      "text/plain": [
       "        _____________\n",
       "       ╱           2 \n",
       "-b + ╲╱  -4⋅a⋅c + b  \n",
       "─────────────────────\n",
       "         2⋅a         "
      ]
     },
     "execution_count": 11,
     "metadata": {},
     "output_type": "execute_result"
    }
   ],
   "source": [
    "root2"
   ]
  },
  {
   "cell_type": "markdown",
   "metadata": {},
   "source": [
    "At some point I will probably make an optional library of Joy wrappers for SymPy functions, and either load it automatically if SymPy installation is available or have a CLI switch or something.  There's a huge amount of incredibly useful stuff and I don't see why Joy shouldn't expose another interface for using it.  (As an example, the symbolic expressions can be \"lambdafied\" into very fast versions, i.e. a function that takes `a`, `b`, and `c` and computes the value of the root using just low-level fast code, bypassing Joy and Python.  Also, Numpy, &c.)"
   ]
  },
  {
   "cell_type": "markdown",
   "metadata": {},
   "source": [
    "## Partial Evaluation\n",
    "\n",
    "[Futamura projections](https://en.wikipedia.org/wiki/Futamura_projection)\n",
    "\n",
    "Starting with the example from [Partial Computation of Programs](http://hdl.handle.net/2433/103401)\n",
    "by [Yoshihiko Futamura](http://fi.ftmr.info/) of a function to compute `u` to the `k`th power:"
   ]
  },
  {
   "cell_type": "code",
   "execution_count": 12,
   "metadata": {},
   "outputs": [],
   "source": [
    "def F(u, k):\n",
    "    z = 1\n",
    "    while k != 0:\n",
    "        if odd(k):\n",
    "            z = z * u\n",
    "        k = k / 2\n",
    "        u = u * u\n",
    "    return z"
   ]
  },
  {
   "cell_type": "markdown",
   "metadata": {},
   "source": [
    "Partial evaluation with `k = 5`:"
   ]
  },
  {
   "cell_type": "code",
   "execution_count": 13,
   "metadata": {},
   "outputs": [],
   "source": [
    "def F5(u):\n",
    "    z = 1 * u\n",
    "    u = u * u\n",
    "    u = u * u\n",
    "    z = z * u\n",
    "    return z"
   ]
  },
  {
   "cell_type": "markdown",
   "metadata": {},
   "source": [
    "Translate `F(u, k)` to Joy\n",
    "\n",
    "    u k 1                    # z = 1\n",
    "        [pop] [Fw] while     # the while statement\n",
    "        popopd               # discard u k, \"return\" z"
   ]
  },
  {
   "cell_type": "markdown",
   "metadata": {},
   "source": [
    "What's Fw?\n",
    "\n",
    "\n",
    "    u k z [pop odd] [Ft] [] ifte   # the if statement\n",
    "          [2 //] dip               # k = k / 2  floordiv\n",
    "          [sqr] dipd               # u = u * u\n",
    "\n",
    "          [[sqr] dip 2 //] dip     # We can merge last two lines."
   ]
  },
  {
   "cell_type": "markdown",
   "metadata": {},
   "source": [
    "Helper function Ft (to compute z = z * u).\n",
    "\n",
    "\n",
    "       u k z Ft\n",
    "    ---------------\n",
    "       u k u*z\n",
    "\n",
    "\n",
    "    Ft == [over] dip *"
   ]
  },
  {
   "cell_type": "markdown",
   "metadata": {},
   "source": [
    "Putting it together:\n",
    "\n",
    "    Ft == [over] dip *\n",
    "    Fb == [[sqr] dip 2 //] dip\n",
    "    Fw == [pop odd] [Ft] [] ifte Fb\n",
    "     F == 1 [pop] [Fw] while popopd"
   ]
  },
  {
   "cell_type": "code",
   "execution_count": 14,
   "metadata": {},
   "outputs": [],
   "source": [
    "define('odd == 2 %')"
   ]
  },
  {
   "cell_type": "code",
   "execution_count": 15,
   "metadata": {},
   "outputs": [],
   "source": [
    "define('Ft == [over] dip *')"
   ]
  },
  {
   "cell_type": "code",
   "execution_count": 16,
   "metadata": {},
   "outputs": [],
   "source": [
    "define('Fb == [[sqr] dip 2 //] dip')"
   ]
  },
  {
   "cell_type": "code",
   "execution_count": 17,
   "metadata": {},
   "outputs": [],
   "source": [
    "define('Fw == [pop odd] [Ft] [] ifte Fb')"
   ]
  },
  {
   "cell_type": "code",
   "execution_count": 18,
   "metadata": {},
   "outputs": [],
   "source": [
    "define('F == 1 [pop] [Fw] while popopd')"
   ]
  },
  {
   "cell_type": "markdown",
   "metadata": {},
   "source": [
    "Try it out:"
   ]
  },
  {
   "cell_type": "code",
   "execution_count": 19,
   "metadata": {},
   "outputs": [
    {
     "name": "stdout",
     "output_type": "stream",
     "text": [
      "32\n"
     ]
    }
   ],
   "source": [
    "J('2 5 F')"
   ]
  },
  {
   "cell_type": "markdown",
   "metadata": {},
   "source": [
    "In order to elide the tests let's define special versions of `while` and `ifte`:"
   ]
  },
  {
   "cell_type": "code",
   "execution_count": 20,
   "metadata": {},
   "outputs": [],
   "source": [
    "from joy.joy import joy\n",
    "from joy.library import FunctionWrapper\n",
    "from joy.parser import Symbol\n",
    "from joy.utils.stack import concat\n",
    "\n",
    "\n",
    "S_while = Symbol('while')\n",
    "\n",
    "\n",
    "@FunctionWrapper\n",
    "def while_(S, expression, dictionary):\n",
    "    '''[if] [body] while'''\n",
    "    (body, (if_, stack)) = S\n",
    "    if joy(stack, if_, dictionary)[0][0]:\n",
    "        expression = concat(body, (if_, (body, (S_while, expression))))\n",
    "    return stack, expression, dictionary\n",
    "\n",
    "\n",
    "@FunctionWrapper\n",
    "def ifte(stack, expression, dictionary):\n",
    "    '''[if] [then] [else] ifte'''\n",
    "    (else_, (then, (if_, stack))) = stack\n",
    "    if_res = joy(stack, if_, dictionary)[0][0]\n",
    "    quote = then if if_res else else_\n",
    "    expression = concat(quote, expression)\n",
    "    return (stack, expression, dictionary)\n",
    "\n",
    "\n",
    "D['ifte'] = ifte\n",
    "D['while'] = while_"
   ]
  },
  {
   "cell_type": "markdown",
   "metadata": {},
   "source": [
    "And with a SymPy symbol for the `u` argument:"
   ]
  },
  {
   "cell_type": "code",
   "execution_count": 21,
   "metadata": {},
   "outputs": [
    {
     "name": "stdout",
     "output_type": "stream",
     "text": [
      "                         u 5 . F\n",
      "                         u 5 . 1 [pop] [Fw] while popopd\n",
      "                       u 5 1 . [pop] [Fw] while popopd\n",
      "                 u 5 1 [pop] . [Fw] while popopd\n",
      "            u 5 1 [pop] [Fw] . while popopd\n",
      "                       u 5 1 . Fw [pop] [Fw] while popopd\n",
      "                       u 5 1 . [pop odd] [Ft] [] ifte Fb [pop] [Fw] while popopd\n",
      "             u 5 1 [pop odd] . [Ft] [] ifte Fb [pop] [Fw] while popopd\n",
      "        u 5 1 [pop odd] [Ft] . [] ifte Fb [pop] [Fw] while popopd\n",
      "     u 5 1 [pop odd] [Ft] [] . ifte Fb [pop] [Fw] while popopd\n",
      "                       u 5 1 . Ft Fb [pop] [Fw] while popopd\n",
      "                       u 5 1 . [over] dip * Fb [pop] [Fw] while popopd\n",
      "                u 5 1 [over] . dip * Fb [pop] [Fw] while popopd\n",
      "                         u 5 . over 1 * Fb [pop] [Fw] while popopd\n",
      "                       u 5 u . 1 * Fb [pop] [Fw] while popopd\n",
      "                     u 5 u 1 . * Fb [pop] [Fw] while popopd\n",
      "                       u 5 u . Fb [pop] [Fw] while popopd\n",
      "                       u 5 u . [[sqr] dip 2 //] dip [pop] [Fw] while popopd\n",
      "      u 5 u [[sqr] dip 2 //] . dip [pop] [Fw] while popopd\n",
      "                         u 5 . [sqr] dip 2 // u [pop] [Fw] while popopd\n",
      "                   u 5 [sqr] . dip 2 // u [pop] [Fw] while popopd\n",
      "                           u . sqr 5 2 // u [pop] [Fw] while popopd\n",
      "                           u . dup mul 5 2 // u [pop] [Fw] while popopd\n",
      "                         u u . mul 5 2 // u [pop] [Fw] while popopd\n",
      "                        u**2 . 5 2 // u [pop] [Fw] while popopd\n",
      "                      u**2 5 . 2 // u [pop] [Fw] while popopd\n",
      "                    u**2 5 2 . // u [pop] [Fw] while popopd\n",
      "                      u**2 2 . u [pop] [Fw] while popopd\n",
      "                    u**2 2 u . [pop] [Fw] while popopd\n",
      "              u**2 2 u [pop] . [Fw] while popopd\n",
      "         u**2 2 u [pop] [Fw] . while popopd\n",
      "                    u**2 2 u . Fw [pop] [Fw] while popopd\n",
      "                    u**2 2 u . [pop odd] [Ft] [] ifte Fb [pop] [Fw] while popopd\n",
      "          u**2 2 u [pop odd] . [Ft] [] ifte Fb [pop] [Fw] while popopd\n",
      "     u**2 2 u [pop odd] [Ft] . [] ifte Fb [pop] [Fw] while popopd\n",
      "  u**2 2 u [pop odd] [Ft] [] . ifte Fb [pop] [Fw] while popopd\n",
      "                    u**2 2 u . Fb [pop] [Fw] while popopd\n",
      "                    u**2 2 u . [[sqr] dip 2 //] dip [pop] [Fw] while popopd\n",
      "   u**2 2 u [[sqr] dip 2 //] . dip [pop] [Fw] while popopd\n",
      "                      u**2 2 . [sqr] dip 2 // u [pop] [Fw] while popopd\n",
      "                u**2 2 [sqr] . dip 2 // u [pop] [Fw] while popopd\n",
      "                        u**2 . sqr 2 2 // u [pop] [Fw] while popopd\n",
      "                        u**2 . dup mul 2 2 // u [pop] [Fw] while popopd\n",
      "                   u**2 u**2 . mul 2 2 // u [pop] [Fw] while popopd\n",
      "                        u**4 . 2 2 // u [pop] [Fw] while popopd\n",
      "                      u**4 2 . 2 // u [pop] [Fw] while popopd\n",
      "                    u**4 2 2 . // u [pop] [Fw] while popopd\n",
      "                      u**4 1 . u [pop] [Fw] while popopd\n",
      "                    u**4 1 u . [pop] [Fw] while popopd\n",
      "              u**4 1 u [pop] . [Fw] while popopd\n",
      "         u**4 1 u [pop] [Fw] . while popopd\n",
      "                    u**4 1 u . Fw [pop] [Fw] while popopd\n",
      "                    u**4 1 u . [pop odd] [Ft] [] ifte Fb [pop] [Fw] while popopd\n",
      "          u**4 1 u [pop odd] . [Ft] [] ifte Fb [pop] [Fw] while popopd\n",
      "     u**4 1 u [pop odd] [Ft] . [] ifte Fb [pop] [Fw] while popopd\n",
      "  u**4 1 u [pop odd] [Ft] [] . ifte Fb [pop] [Fw] while popopd\n",
      "                    u**4 1 u . Ft Fb [pop] [Fw] while popopd\n",
      "                    u**4 1 u . [over] dip * Fb [pop] [Fw] while popopd\n",
      "             u**4 1 u [over] . dip * Fb [pop] [Fw] while popopd\n",
      "                      u**4 1 . over u * Fb [pop] [Fw] while popopd\n",
      "                 u**4 1 u**4 . u * Fb [pop] [Fw] while popopd\n",
      "               u**4 1 u**4 u . * Fb [pop] [Fw] while popopd\n",
      "                 u**4 1 u**5 . Fb [pop] [Fw] while popopd\n",
      "                 u**4 1 u**5 . [[sqr] dip 2 //] dip [pop] [Fw] while popopd\n",
      "u**4 1 u**5 [[sqr] dip 2 //] . dip [pop] [Fw] while popopd\n",
      "                      u**4 1 . [sqr] dip 2 // u**5 [pop] [Fw] while popopd\n",
      "                u**4 1 [sqr] . dip 2 // u**5 [pop] [Fw] while popopd\n",
      "                        u**4 . sqr 1 2 // u**5 [pop] [Fw] while popopd\n",
      "                        u**4 . dup mul 1 2 // u**5 [pop] [Fw] while popopd\n",
      "                   u**4 u**4 . mul 1 2 // u**5 [pop] [Fw] while popopd\n",
      "                        u**8 . 1 2 // u**5 [pop] [Fw] while popopd\n",
      "                      u**8 1 . 2 // u**5 [pop] [Fw] while popopd\n",
      "                    u**8 1 2 . // u**5 [pop] [Fw] while popopd\n",
      "                      u**8 0 . u**5 [pop] [Fw] while popopd\n",
      "                 u**8 0 u**5 . [pop] [Fw] while popopd\n",
      "           u**8 0 u**5 [pop] . [Fw] while popopd\n",
      "      u**8 0 u**5 [pop] [Fw] . while popopd\n",
      "                 u**8 0 u**5 . popopd\n",
      "                        u**5 . \n"
     ]
    }
   ],
   "source": [
    "stack = list_to_stack([5, sympy.symbols('u')])\n",
    "viewer = TracePrinter()\n",
    "try:\n",
    "    (result, _) = run('F', stack, D, viewer.viewer)[0]\n",
    "except Exception, e:\n",
    "    print e\n",
    "viewer.print_()"
   ]
  },
  {
   "cell_type": "code",
   "execution_count": 22,
   "metadata": {},
   "outputs": [
    {
     "data": {
      "image/png": "[encoded data removed]",
      "text/latex": [
       "$$u^{5}$$"
      ],
      "text/plain": [
       " 5\n",
       "u "
      ]
     },
     "execution_count": 22,
     "metadata": {},
     "output_type": "execute_result"
    }
   ],
   "source": [
    "result"
   ]
  },
  {
   "cell_type": "markdown",
   "metadata": {},
   "source": [
    "Let's try partial evaluation by hand and use a \"stronger\" thunk.\n",
    "\n",
    "Caret underscoring indicates terms that form thunks.  When an arg is unavailable for a computation we just postpone it until the arg becomes available and in the meantime treat the pending computation as one unit.\n",
    "\n",
    "                             u 5 . F\n",
    "                             u 5 . 1 [pop] [Fw] while popopd\n",
    "                           u 5 1 . [pop] [Fw] while popopd\n",
    "                     u 5 1 [pop] . [Fw] while popopd\n",
    "                u 5 1 [pop] [Fw] . while popopd\n",
    "                           u 5 1 . Fw [pop] [Fw] while popopd\n",
    "                           u 5 1 . [pop odd] [Ft] [] ifte Fb [pop] [Fw] while popopd\n",
    "                 u 5 1 [pop odd] . [Ft] [] ifte Fb [pop] [Fw] while popopd\n",
    "            u 5 1 [pop odd] [Ft] . [] ifte Fb [pop] [Fw] while popopd\n",
    "         u 5 1 [pop odd] [Ft] [] . ifte Fb [pop] [Fw] while popopd\n",
    "                           u 5 1 . Ft Fb [pop] [Fw] while popopd\n",
    "                           u 5 1 . [over] dip * Fb [pop] [Fw] while popopd\n",
    "                    u 5 1 [over] . dip * Fb [pop] [Fw] while popopd\n",
    "                             u 5 . over 1 * Fb [pop] [Fw] while popopd\n",
    "                           u 5 u . 1 * Fb [pop] [Fw] while popopd\n",
    "                         u 5 u 1 . * Fb [pop] [Fw] while popopd\n",
    "                           u 5 u . Fb [pop] [Fw] while popopd\n",
    "                           u 5 u . [[sqr] dip 2 //] dip [pop] [Fw] while popopd\n",
    "          u 5 u [[sqr] dip 2 //] . dip [pop] [Fw] while popopd\n",
    "                             u 5 . [sqr] dip 2 // u [pop] [Fw] while popopd\n",
    "                       u 5 [sqr] . dip 2 // u [pop] [Fw] while popopd\n",
    "                               u . sqr 5 2 // u [pop] [Fw] while popopd\n",
    "                               u . dup mul 5 2 // u [pop] [Fw] while popopd\n",
    "                         u dup * . 5 2 // u [pop] [Fw] while popopd\n",
    "                         ^^^^^^^"
   ]
  },
  {
   "cell_type": "markdown",
   "metadata": {},
   "source": [
    "\n",
    "             u dup * 2 u [pop] [Fw] . while popopd\n",
    "                        u dup * 2 u . Fw [pop] [Fw] while popopd\n",
    "                        u dup * 2 u . [pop odd] [Ft] [] ifte Fb [pop] [Fw] while popopd\n",
    "              u dup * 2 u [pop odd] . [Ft] [] ifte Fb [pop] [Fw] while popopd\n",
    "         u dup * 2 u [pop odd] [Ft] . [] ifte Fb [pop] [Fw] while popopd\n",
    "      u dup * 2 u [pop odd] [Ft] [] . ifte Fb [pop] [Fw] while popopd\n",
    "                        u dup * 2 u . Fb [pop] [Fw] while popopd\n",
    "                        u dup * 2 u . [[sqr] dip 2 //] dip [pop] [Fw] while popopd\n",
    "       u dup * 2 u [[sqr] dip 2 //] . dip [pop] [Fw] while popopd\n",
    "                          u dup * 2 . [sqr] dip 2 // u [pop] [Fw] while popopd\n",
    "                    u dup * 2 [sqr] . dip 2 // u [pop] [Fw] while popopd\n",
    "                            u dup * . sqr 2 2 // u [pop] [Fw] while popopd\n",
    "                            u dup * . dup mul 2 2 // u [pop] [Fw] while popopd\n",
    "                      u dup * dup * . 2 2 // u [pop] [Fw] while popopd\n",
    "                      ^^^^^^^^^^^^^\n",
    "\n",
    "\n"
   ]
  },
  {
   "cell_type": "markdown",
   "metadata": {},
   "source": [
    "w/ `K == u dup * dup *`\n",
    "\n",
    "                 K 1 u [pop] [Fw] . while popopd\n",
    "                            K 1 u . Fw [pop] [Fw] while popopd\n",
    "                            K 1 u . [pop odd] [Ft] [] ifte Fb [pop] [Fw] while popopd\n",
    "                  K 1 u [pop odd] . [Ft] [] ifte Fb [pop] [Fw] while popopd\n",
    "             K 1 u [pop odd] [Ft] . [] ifte Fb [pop] [Fw] while popopd\n",
    "          K 1 u [pop odd] [Ft] [] . ifte Fb [pop] [Fw] while popopd\n",
    "                            K 1 u . Ft Fb [pop] [Fw] while popopd\n",
    "                            K 1 u . [over] dip * Fb [pop] [Fw] while popopd\n",
    "                     K 1 u [over] . dip * Fb [pop] [Fw] while popopd\n",
    "                              K 1 . over u * Fb [pop] [Fw] while popopd\n",
    "                            K 1 K . u * Fb [pop] [Fw] while popopd\n",
    "                          K 1 K u . * Fb [pop] [Fw] while popopd\n",
    "                        K 1 K u * . Fb [pop] [Fw] while popopd\n",
    "                            ^^^^^"
   ]
  },
  {
   "cell_type": "markdown",
   "metadata": {},
   "source": [
    "w/ `L == K u *`\n",
    "\n",
    "                         K 1 L . Fb [pop] [Fw] while popopd\n",
    "                         K 1 L . [[sqr] dip 2 //] dip [pop] [Fw] while popopd\n",
    "        K 1 L [[sqr] dip 2 //] . dip [pop] [Fw] while popopd\n",
    "                           K 1 . [sqr] dip 2 // L [pop] [Fw] while popopd\n",
    "                     K 1 [sqr] . dip 2 // L [pop] [Fw] while popopd\n",
    "                             K . sqr 1 2 // L [pop] [Fw] while popopd\n",
    "                             K . dup mul 1 2 // L [pop] [Fw] while popopd\n",
    "                           K K . mul 1 2 // L [pop] [Fw] while popopd\n",
    "                         K K * . 1 2 // L [pop] [Fw] while popopd\n",
    "                         ^^^^^\n",
    "                         K K * . 1 2 // L [pop] [Fw] while popopd\n",
    "                       K K * 1 . 2 // L [pop] [Fw] while popopd\n",
    "                     K K * 1 2 . // L [pop] [Fw] while popopd\n",
    "                       K K * 0 . L [pop] [Fw] while popopd\n",
    "                     K K * 0 L . [pop] [Fw] while popopd\n",
    "               K K * 0 L [pop] . [Fw] while popopd\n",
    "          K K * 0 L [pop] [Fw] . while popopd\n",
    "          ^^^^^\n",
    "                     K K * 0 L . popopd\n",
    "                             L . "
   ]
  },
  {
   "cell_type": "markdown",
   "metadata": {},
   "source": [
    "So:\n",
    "\n",
    "    K == u dup * dup *\n",
    "    L == K u *\n",
    "\n",
    "Our result \"thunk\" would be:\n",
    "    \n",
    "    u dup * dup * u *\n",
    "\n",
    "Mechanically, you could do:\n",
    "\n",
    "    u      dup * dup *  u   *\n",
    "    u u   [dup * dup *] dip *\n",
    "    u dup [dup * dup *] dip *\n",
    "\n",
    "\n",
    "    F5 == dup [dup * dup *] dip *\n",
    "\n",
    "But we can swap the two arguments to the final `*` to get all mentions of `u` to the left:\n",
    "\n",
    "\n",
    "    u u dup * dup * *\n",
    "\n",
    "\n",
    "Then de-duplicate \"u\":\n",
    "\n",
    "\n",
    "    u dup dup * dup * *\n",
    "\n",
    "\n",
    "To arrive at a startlingly elegant form for F5:\n",
    "\n",
    "\n",
    "    F5 == dup dup * dup * *"
   ]
  },
  {
   "cell_type": "code",
   "execution_count": 23,
   "metadata": {},
   "outputs": [
    {
     "name": "stdout",
     "output_type": "stream",
     "text": [
      "          u . dup dup * dup * *\n",
      "        u u . dup * dup * *\n",
      "      u u u . * dup * *\n",
      "     u u**2 . dup * *\n",
      "u u**2 u**2 . * *\n",
      "     u u**4 . *\n",
      "       u**5 . \n"
     ]
    },
    {
     "data": {
      "image/png": "[encoded data removed]",
      "text/latex": [
       "$$u^{5}$$"
      ],
      "text/plain": [
       " 5\n",
       "u "
      ]
     },
     "execution_count": 23,
     "metadata": {},
     "output_type": "execute_result"
    }
   ],
   "source": [
    "stack = list_to_stack([sympy.symbols('u')])\n",
    "viewer = TracePrinter()\n",
    "try:\n",
    "    (result, _) = run('dup dup * dup * *', stack, D, viewer.viewer)[0]\n",
    "except Exception, e:\n",
    "    print e\n",
    "viewer.print_()\n",
    "result"
   ]
  },
  {
   "cell_type": "markdown",
   "metadata": {},
   "source": [
    "I'm not sure how to implement these kinds of thunks.  I think you have to have support in the interpreter, or you have to modify all of the functions like `dup` to check for thunks in their inputs."
   ]
  },
  {
   "cell_type": "markdown",
   "metadata": {},
   "source": [
    "Working on the compiler, from this:\n",
    "\n",
    "    dup dup * dup * *\n",
    "\n",
    "We can already generate:\n",
    "\n",
    "    ---------------------------------\n",
    "    (a0, stack) = stack\n",
    "    a1 = mul(a0, a0)\n",
    "    a2 = mul(a1, a1)\n",
    "    a3 = mul(a2, a0)\n",
    "    stack = (a3, stack)\n",
    "    ---------------------------------\n",
    "\n",
    "This is pretty old stuff...  (E.g. from 1999, M. Anton Ertl [Compilation of Stack-Based Languages](http://www.complang.tuwien.ac.at/projects/rafts.html) he goes a lot further for Forth.)"
   ]
  },
  {
   "cell_type": "code",
   "execution_count": null,
   "metadata": {},
   "outputs": [],
   "source": []
  },
  {
   "cell_type": "markdown",
   "metadata": {},
   "source": [
    "## \"A Transformation Based Approach to Semantics-Directed Code Generation\"\n",
    "\n",
    "by Arthur Nunes-Harwitt\n",
    "\n",
    "https://dl.acm.org/citation.cfm?doid=2635648.2635652\n",
    "\n"
   ]
  },
  {
   "cell_type": "code",
   "execution_count": 24,
   "metadata": {},
   "outputs": [
    {
     "name": "stdout",
     "output_type": "stream",
     "text": [
      "6\n"
     ]
    }
   ],
   "source": [
    "def m(x, y): return x * y\n",
    "\n",
    "print m(2, 3)"
   ]
  },
  {
   "cell_type": "code",
   "execution_count": 25,
   "metadata": {},
   "outputs": [
    {
     "name": "stdout",
     "output_type": "stream",
     "text": [
      "6\n"
     ]
    }
   ],
   "source": [
    "def m(x): return lambda y: x * y\n",
    "\n",
    "print m(2)(3)"
   ]
  },
  {
   "cell_type": "code",
   "execution_count": 26,
   "metadata": {},
   "outputs": [
    {
     "name": "stdout",
     "output_type": "stream",
     "text": [
      "lambda y: 2 * y\n",
      "6\n"
     ]
    }
   ],
   "source": [
    "def m(x): return \"lambda y: %(x)s * y\" % locals()\n",
    "\n",
    "print m(2)\n",
    "print eval(m(2))(3)"
   ]
  },
  {
   "cell_type": "markdown",
   "metadata": {},
   "source": [
    "In Joy:\n",
    "\n",
    "    m == [*] cons\n",
    "\n",
    "    3 2 m i\n",
    "    3 2 [*] cons i\n",
    "    3 [2 *] i\n",
    "    3 2 *\n",
    "    6\n"
   ]
  },
  {
   "cell_type": "code",
   "execution_count": 27,
   "metadata": {},
   "outputs": [
    {
     "name": "stdout",
     "output_type": "stream",
     "text": [
      "lambda b: 1 if 3 == 0 else b * p(3 - 1, b)\n"
     ]
    }
   ],
   "source": [
    "def p(n, b): # original\n",
    "    return 1 if n == 0 else b * p(n - 1, b)\n",
    "\n",
    "\n",
    "def p(n): # curried\n",
    "    return lambda b: 1 if n == 0 else b * p(n - 1, b)\n",
    "\n",
    "\n",
    "def p(n): # quoted\n",
    "    return \"lambda b: 1 if %(n)s == 0 else b * p(%(n)s - 1, b)\"  % locals()\n",
    "\n",
    "\n",
    "print p(3)"
   ]
  },
  {
   "cell_type": "markdown",
   "metadata": {},
   "source": [
    "Original\n",
    "\n",
    "    p == [0 =] [popop 1] [-- over] [dip *] genrec\n",
    "\n",
    "    b n p\n",
    "    b n [0 =] [popop 1] [-- over [p] dip *]\n",
    "\n",
    "    b n -- over [p] dip *\n",
    "    b n-1  over [p] dip *\n",
    "    b n-1 b [p] dip *\n",
    "    b n-1 p b *\n"
   ]
  },
  {
   "cell_type": "markdown",
   "metadata": {},
   "source": [
    "curried, quoted\n",
    "\n",
    "                        n p\n",
    "    ---------------------------------------------\n",
    "       [[n 0 =] [pop 1] [dup n --] [*] genrec]"
   ]
  },
  {
   "cell_type": "code",
   "execution_count": 28,
   "metadata": {},
   "outputs": [
    {
     "name": "stdout",
     "output_type": "stream",
     "text": [
      "lambda b: b * p(3 - 1, b)\n"
     ]
    }
   ],
   "source": [
    "def p(n): # lambda lowered\n",
    "    return (\n",
    "        lambda b: 1\n",
    "        if n == 0 else\n",
    "        lambda b: b * p(n - 1, b)\n",
    "        )\n",
    "\n",
    "\n",
    "def p(n): # lambda lowered quoted\n",
    "    return (\n",
    "        \"lambda b: 1\"\n",
    "        if n == 0 else\n",
    "        \"lambda b: b * p(%(n)s - 1, b)\"  % locals()\n",
    "        )\n",
    "\n",
    "print p(3)"
   ]
  },
  {
   "cell_type": "markdown",
   "metadata": {},
   "source": [
    "\n",
    "    p == [0 =] [[pop 1]] [ [-- [dup] dip p *] cons ]ifte\n",
    "\n",
    "\n",
    "    3 p\n",
    "    3 [-- [dup] dip p *] cons\n",
    "    [3 -- [dup] dip p *]\n"
   ]
  },
  {
   "cell_type": "code",
   "execution_count": 29,
   "metadata": {},
   "outputs": [
    {
     "name": "stdout",
     "output_type": "stream",
     "text": [
      "8\n"
     ]
    }
   ],
   "source": [
    "def p(n): # expression lifted\n",
    "    if n == 0:\n",
    "        return lambda b: 1\n",
    "    f = p(n - 1)\n",
    "    return lambda b: b * f(b)\n",
    "\n",
    "\n",
    "print p(3)(2)"
   ]
  },
  {
   "cell_type": "code",
   "execution_count": 30,
   "metadata": {},
   "outputs": [
    {
     "name": "stdout",
     "output_type": "stream",
     "text": [
      "lambda b: b * (lambda b: b * (lambda b: b * (lambda b: 1)(b))(b))(b)\n",
      "8\n"
     ]
    }
   ],
   "source": [
    "def p(n): # quoted\n",
    "    if n == 0:\n",
    "        return \"lambda b: 1\"\n",
    "    f = p(n - 1)\n",
    "    return \"lambda b: b * (%(f)s)(b)\"  % locals()\n",
    "\n",
    "print p(3)\n",
    "print eval(p(3))(2)"
   ]
  },
  {
   "cell_type": "markdown",
   "metadata": {},
   "source": [
    "    p == [0 =] [pop [pop 1]] [-- p [dupdip *] cons] ifte\n",
    "\n",
    "\n",
    "    3 p\n",
    "    3 -- p [dupdip *] cons\n",
    "    2    p [dupdip *] cons\n",
    "    2 -- p [dupdip *] cons [dupdip *] cons\n",
    "    1    p [dupdip *] cons [dupdip *] cons\n",
    "    1 -- p [dupdip *] cons [dupdip *] cons [dupdip *] cons\n",
    "    0    p [dupdip *] cons [dupdip *] cons [dupdip *] cons\n",
    "    0 pop [pop 1] [dupdip *] cons [dupdip *] cons [dupdip *] cons\n",
    "    [pop 1] [dupdip *] cons [dupdip *] cons [dupdip *] cons\n",
    "    ...\n",
    "    [[[[pop 1] dupdip *] dupdip *] dupdip *]\n",
    "\n",
    "\n",
    "    2 [[[[pop 1] dupdip *] dupdip *] dupdip *] i\n",
    "    2  [[[pop 1] dupdip *] dupdip *] dupdip *\n",
    "    2   [[pop 1] dupdip *] dupdip *  2 *\n",
    "    2    [pop 1] dupdip *  2      *  2 *\n",
    "    2     pop 1  2      *  2      *  2 *\n",
    "              1  2      *  2      *  2 *\n",
    "\n",
    "\n",
    "\n",
    "    p == [0 =] [pop [pop 1]] [--  p    [dupdip *] cons] ifte\n",
    "    p == [0 =] [pop [pop 1]] [-- [p] i [dupdip *] cons] ifte\n",
    "    p == [0 =] [pop [pop 1]] [--]   [i [dupdip *] cons] genrec"
   ]
  },
  {
   "cell_type": "code",
   "execution_count": 31,
   "metadata": {},
   "outputs": [],
   "source": [
    "define('p == [0 =] [pop [pop 1]] [--] [i [dupdip *] cons] genrec')"
   ]
  },
  {
   "cell_type": "code",
   "execution_count": 32,
   "metadata": {},
   "outputs": [
    {
     "name": "stdout",
     "output_type": "stream",
     "text": [
      "[[[[pop 1] dupdip *] dupdip *] dupdip *]\n"
     ]
    }
   ],
   "source": [
    "J('3 p')"
   ]
  },
  {
   "cell_type": "code",
   "execution_count": 33,
   "metadata": {},
   "outputs": [
    {
     "name": "stdout",
     "output_type": "stream",
     "text": [
      "                                           . 2 [[[[pop 1] dupdip *] dupdip *] dupdip *] i\n",
      "                                         2 . [[[[pop 1] dupdip *] dupdip *] dupdip *] i\n",
      "2 [[[[pop 1] dupdip *] dupdip *] dupdip *] . i\n",
      "                                         2 . [[[pop 1] dupdip *] dupdip *] dupdip *\n",
      "           2 [[[pop 1] dupdip *] dupdip *] . dupdip *\n",
      "                                         2 . [[pop 1] dupdip *] dupdip * 2 *\n",
      "                      2 [[pop 1] dupdip *] . dupdip * 2 *\n",
      "                                         2 . [pop 1] dupdip * 2 * 2 *\n",
      "                                 2 [pop 1] . dupdip * 2 * 2 *\n",
      "                                         2 . pop 1 2 * 2 * 2 *\n",
      "                                           . 1 2 * 2 * 2 *\n",
      "                                         1 . 2 * 2 * 2 *\n",
      "                                       1 2 . * 2 * 2 *\n",
      "                                         2 . 2 * 2 *\n",
      "                                       2 2 . * 2 *\n",
      "                                         4 . 2 *\n",
      "                                       4 2 . *\n",
      "                                         8 . \n"
     ]
    }
   ],
   "source": [
    "V('2 [[[[pop 1] dupdip *] dupdip *] dupdip *] i')"
   ]
  },
  {
   "cell_type": "code",
   "execution_count": null,
   "metadata": {},
   "outputs": [],
   "source": [
    "stack = list_to_stack([sympy.symbols('u')])\n",
    "(result, s) = run('p i', stack, D)[0]\n",
    "result"
   ]
  },
  {
   "cell_type": "markdown",
   "metadata": {},
   "source": [
    "From this:\n",
    "\n",
    "    p == [0 =] [pop pop 1] [-- over] [dip *] genrec\n",
    "\n",
    "To this:\n",
    "\n",
    "    p == [0 =] [pop [pop 1]] [--] [i [dupdip *] cons] genrec\n",
    "\n",
    "\n"
   ]
  },
  {
   "cell_type": "markdown",
   "metadata": {},
   "source": [
    "## Try it with `F()`:"
   ]
  },
  {
   "cell_type": "code",
   "execution_count": null,
   "metadata": {},
   "outputs": [],
   "source": [
    "def odd(n): return n % 2\n",
    "\n",
    "\n",
    "def F(u, k):\n",
    "    z = 1\n",
    "    while k != 0:\n",
    "        if odd(k):\n",
    "            z = z * u\n",
    "        k = k / 2\n",
    "        u = u * u\n",
    "    return z\n",
    "\n",
    "F(2, 5)"
   ]
  },
  {
   "cell_type": "code",
   "execution_count": null,
   "metadata": {},
   "outputs": [],
   "source": [
    "def F(k):\n",
    "    def _F(u, k=k):\n",
    "        z = 1\n",
    "        while k != 0:\n",
    "            if odd(k):\n",
    "                z = z * u\n",
    "            k = k / 2\n",
    "            u = u * u\n",
    "        return z\n",
    "    return _F\n",
    "    \n",
    "F(5)(2)"
   ]
  },
  {
   "cell_type": "code",
   "execution_count": null,
   "metadata": {},
   "outputs": [],
   "source": [
    "def F(k):\n",
    "    def _F(u, k=k):\n",
    "        if k == 0:\n",
    "            z = 1\n",
    "        else:\n",
    "            z = F(k / 2)(u)\n",
    "            z *= z\n",
    "            if odd(k):\n",
    "                z = z * u\n",
    "        return z\n",
    "    return _F\n",
    "    \n",
    "F(5)(2)"
   ]
  },
  {
   "cell_type": "code",
   "execution_count": null,
   "metadata": {},
   "outputs": [],
   "source": [
    "def F(k):\n",
    "    if k == 0:\n",
    "        z = lambda u: 1\n",
    "    else:\n",
    "        f = F(k / 2)\n",
    "        def z(u):\n",
    "            uu = f(u)\n",
    "            uu *= uu\n",
    "            return uu * u if odd(k) else uu\n",
    "    return z\n",
    "    \n",
    "F(5)(2)"
   ]
  },
  {
   "cell_type": "code",
   "execution_count": null,
   "metadata": {},
   "outputs": [],
   "source": [
    "def F(k):\n",
    "    if k == 0:\n",
    "        z = lambda u: 1\n",
    "    else:\n",
    "        f = F(k / 2)\n",
    "        if odd(k):\n",
    "            z = lambda u: (lambda fu, u: fu * fu * u)(f(u), u)\n",
    "        else:\n",
    "            z = lambda u: (lambda fu, u: fu * fu)(f(u), u)\n",
    "    return z\n",
    "    \n",
    "F(5)(2)"
   ]
  },
  {
   "cell_type": "code",
   "execution_count": null,
   "metadata": {},
   "outputs": [],
   "source": [
    "def F(k):\n",
    "    if k == 0:\n",
    "        z = \"lambda u: 1\"\n",
    "    else:\n",
    "        f = F(k / 2)\n",
    "        if odd(k):\n",
    "            z = \"lambda u: (lambda fu, u: fu * fu * u)((%(f)s)(u), u)\" % locals()\n",
    "        else:\n",
    "            z = \"lambda u: (lambda fu, u: fu * fu)((%(f)s)(u), u)\" % locals()\n",
    "    return z\n",
    "    \n",
    "source = F(5)\n",
    "print source\n",
    "eval(source)(2)"
   ]
  },
  {
   "cell_type": "markdown",
   "metadata": {},
   "source": [
    "Hmm..."
   ]
  },
  {
   "cell_type": "code",
   "execution_count": null,
   "metadata": {},
   "outputs": [],
   "source": [
    "for n in range(4):\n",
    "    print F(n)"
   ]
  },
  {
   "cell_type": "code",
   "execution_count": null,
   "metadata": {},
   "outputs": [],
   "source": [
    "def F(k):\n",
    "    if k == 0:\n",
    "        z = \"lambda u: 1\"\n",
    "    elif k == 1:\n",
    "        z = \"lambda u: u\"\n",
    "    else:\n",
    "        f = F(k / 2)\n",
    "        if odd(k):\n",
    "            z = \"lambda u: (lambda fu, u: fu * fu * u)((%(f)s)(u), u)\" % locals()\n",
    "        else:\n",
    "            z = \"lambda u: (lambda fu, u: fu * fu)((%(f)s)(u), u)\" % locals()\n",
    "    return z\n",
    "    \n",
    "source = F(5)\n",
    "print source\n",
    "eval(source)(2)"
   ]
  },
  {
   "cell_type": "code",
   "execution_count": null,
   "metadata": {},
   "outputs": [],
   "source": [
    "for n in range(4):\n",
    "    print F(n)"
   ]
  },
  {
   "cell_type": "code",
   "execution_count": null,
   "metadata": {},
   "outputs": [],
   "source": [
    "def F(k):\n",
    "    if k == 0:\n",
    "        z = \"lambda u: 1\"\n",
    "    elif k == 1:\n",
    "        z = \"lambda u: u\"\n",
    "    else:\n",
    "        m = k / 2\n",
    "        if odd(k):\n",
    "            if m == 0:\n",
    "                z = \"lambda u: 1\"\n",
    "            elif m == 1:\n",
    "                z = \"lambda u: u * u * u\"\n",
    "            else:\n",
    "                z = \"lambda u: (lambda fu, u: fu * fu * u)((%s)(u), u)\" % F(m)\n",
    "        else:\n",
    "            if m == 0:\n",
    "                z = \"lambda u: 1\"\n",
    "            elif m == 1:\n",
    "                z = \"lambda u: u * u\"\n",
    "            else:\n",
    "                z = \"lambda u: (lambda u: u * u)((%s)(u))\" % F(m)\n",
    "    return z\n",
    "    \n",
    "source = F(5)\n",
    "print source\n",
    "eval(source)(2)"
   ]
  },
  {
   "cell_type": "code",
   "execution_count": null,
   "metadata": {},
   "outputs": [],
   "source": [
    "def F(k):\n",
    "    if k == 0:\n",
    "        z = \"lambda u: 1\"\n",
    "    elif k == 1:\n",
    "        z = \"lambda u: u\"\n",
    "    else:\n",
    "        m = k / 2\n",
    "        if m == 0:\n",
    "            z = \"lambda u: 1\"\n",
    "        \n",
    "        elif odd(k):\n",
    "            if m == 1:\n",
    "                z = \"lambda u: u * u * u\"\n",
    "            else:\n",
    "                z = \"lambda u: (lambda fu, u: fu * fu * u)((%s)(u), u)\" % F(m)\n",
    "        else:\n",
    "            if m == 1:\n",
    "                z = \"lambda u: u * u\"\n",
    "            else:\n",
    "                z = \"lambda u: (lambda u: u * u)((%s)(u))\" % F(m)\n",
    "    return z\n",
    "    \n",
    "source = F(5)\n",
    "print source\n",
    "eval(source)(2)"
   ]
  },
  {
   "cell_type": "code",
   "execution_count": null,
   "metadata": {
    "scrolled": true
   },
   "outputs": [],
   "source": [
    "for n in range(7):\n",
    "    source = F(n)\n",
    "    print n, '%2i' % eval(source)(2), source"
   ]
  },
  {
   "cell_type": "markdown",
   "metadata": {},
   "source": [
    "So that gets pretty good, eh?\n",
    "\n",
    "\n",
    "But looking back at the definition in Joy, it doesn't seem easy to directly apply this technique to Joy code:\n",
    "\n",
    "    Ft == [over] dip *\n",
    "    Fb == [[sqr] dip 2 //] dip\n",
    "    Fw == [pop odd] [Ft] [] ifte Fb\n",
    "     F == 1 [pop] [Fw] while popopd\n",
    "\n",
    "\n",
    "But a direct translation of the Python code..?\n",
    "\n",
    "\n",
    "    F == [\n",
    "      [[0 =] [pop 1]]\n",
    "      [[1 =] []]\n",
    "      [_F.0]\n",
    "      ] cond\n",
    "\n",
    "    _F.0 == dup 2 // [\n",
    "      [[0 =]     [pop 1]]\n",
    "      [[pop odd] _F.1]\n",
    "      [_F.2]\n",
    "      ] cond\n",
    "\n",
    "    _F.1 == [1 =] [pop [dup dup * *]] [popd F [dupdip over * *] cons] ifte\n",
    "    _F.2 == [1 =] [pop [dup *]]       [popd F [i dup *]         cons] ifte\n",
    "\n",
    "\n",
    "Try it:\n",
    "\n",
    "    5 F\n",
    "    5 [ [[0 =] [pop 1]] [[1 =] []] [_F.0] ] cond\n",
    "    5 _F.0\n",
    "    5 dup 2 // [ [[0 =] [pop 1]] [[pop odd] _F.1] [_F.2] ] cond\n",
    "    5 5 2 //   [ [[0 =] [pop 1]] [[pop odd] _F.1] [_F.2] ] cond\n",
    "\n",
    "    5 2 [ [[0 =] [pop 1]] [[pop odd] _F.1] [_F.2] ] cond\n",
    "    5 2 _F.1\n",
    "    5 2 [1 =] [popop [dup dup * *]] [popd F [dupdip over * *] cons] ifte\n",
    "    5 2                              popd F [dupdip over * *] cons\n",
    "      2                                   F [dupdip over * *] cons\n",
    "\n",
    "    2 F [dupdip over * *] cons\n",
    "\n",
    "    2 F\n",
    "    2 [ [[0 =] [pop 1]] [[1 =] []] [_F.0] ] cond\n",
    "    2 _F.0\n",
    "    2 dup 2 // [ [[0 =] [pop 1]] [[pop odd] _F.1] [_F.2] ] cond\n",
    "    2 2 2 // [ [[0 =] [pop 1]] [[pop odd] _F.1] [_F.2] ] cond\n",
    "    2 1 [ [[0 =] [pop 1]] [[pop odd] _F.1] [_F.2] ] cond\n",
    "    2 1 _F.2\n",
    "    2 1 [1 =] [popop [dup *]] [popd F [i dup *] cons] ifte\n",
    "    2 1 popop [dup *]\n",
    "    [dup *]\n",
    "\n",
    "\n",
    "    2 F     [dupdip over * *] cons\n",
    "    [dup *] [dupdip over * *] cons\n",
    "    [[dup *] dupdip over * *]\n",
    "\n",
    "And here it is in action:\n",
    "\n",
    "    2 [[dup *] dupdip over * *] i\n",
    "    2  [dup *] dupdip over * *\n",
    "    2   dup *  2      over * *\n",
    "    2   2   *  2      over * *\n",
    "    4          2      over * *\n",
    "    4          2      4    * *\n",
    "    4          8             *\n",
    "    32\n",
    "\n",
    "\n",
    "\n",
    "So, it works, but in this case the results of the partial evaluation are more elegant.\n",
    "\n",
    "\n",
    "\n",
    "\n"
   ]
  },
  {
   "cell_type": "markdown",
   "metadata": {},
   "source": [
    "## Try it with `hylomorphism()`:"
   ]
  },
  {
   "cell_type": "code",
   "execution_count": null,
   "metadata": {},
   "outputs": [],
   "source": [
    "def hylomorphism(c, F, P, G):\n",
    "    '''Return a hylomorphism function H.'''\n",
    "\n",
    "    def H(a):\n",
    "        if P(a):\n",
    "            result = c\n",
    "        else:\n",
    "            b, aa = G(a)\n",
    "            result = F(b, H(aa))\n",
    "        return result\n",
    "\n",
    "    return H"
   ]
  },
  {
   "cell_type": "markdown",
   "metadata": {},
   "source": [
    "### First, curry\n",
    "\n",
    "With abuse of syntax:"
   ]
  },
  {
   "cell_type": "code",
   "execution_count": null,
   "metadata": {},
   "outputs": [],
   "source": [
    "def hylomorphism(c):\n",
    "    return lambda F: lambda P: lambda G: lambda a: (\n",
    "        if P(a):\n",
    "            result = c\n",
    "        else:\n",
    "            b, aa = G(a)\n",
    "            result = F(b)(H(aa))\n",
    "        return result\n",
    "    )\n"
   ]
  },
  {
   "cell_type": "markdown",
   "metadata": {},
   "source": [
    "### lambda lowering\n"
   ]
  },
  {
   "cell_type": "code",
   "execution_count": null,
   "metadata": {},
   "outputs": [],
   "source": [
    "def hylomorphism(c):\n",
    "    def r(a):\n",
    "        def rr(P):\n",
    "            if P(a):\n",
    "                return lambda F: lambda G: c\n",
    "            return lambda F: lambda G: (\n",
    "                    b, aa = G(a)\n",
    "                    return F(b)(H(aa))\n",
    "                )\n",
    "        return rr\n",
    "    return r\n",
    "\n"
   ]
  },
  {
   "cell_type": "markdown",
   "metadata": {},
   "source": [
    "### expression lifting\n"
   ]
  },
  {
   "cell_type": "code",
   "execution_count": null,
   "metadata": {},
   "outputs": [],
   "source": [
    "def hylomorphism(c):\n",
    "    def r(a):\n",
    "        def rr(P):\n",
    "            def rrr(G):\n",
    "                if P(a):\n",
    "                    return lambda F: c\n",
    "                b, aa = G(a)\n",
    "                H = hylomorphism(c)(aa)(P)(G)\n",
    "                return lambda F: F(b)(H(F))\n",
    "            return rrr\n",
    "        return rr\n",
    "    return r\n",
    "\n"
   ]
  },
  {
   "cell_type": "markdown",
   "metadata": {},
   "source": [
    "### quoted\n"
   ]
  },
  {
   "cell_type": "code",
   "execution_count": null,
   "metadata": {},
   "outputs": [],
   "source": [
    "def hylomorphism(c):\n",
    "    def r(a):\n",
    "        def rr(P):\n",
    "            def rrr(G):\n",
    "                if P(a):\n",
    "                    return \"lambda F: %s\" % (c,)\n",
    "                b, aa = G(a)\n",
    "                H = hylomorphism(c)(aa)(P)(G)\n",
    "                return \"lambda F: F(%(b)s)((%(H)s)(F))\" % locals()\n",
    "            return rrr\n",
    "        return rr\n",
    "    return r\n",
    "\n"
   ]
  },
  {
   "cell_type": "code",
   "execution_count": null,
   "metadata": {},
   "outputs": [],
   "source": [
    "hylomorphism(0)(3)(lambda n: n == 0)(lambda n: (n-1, n-1))"
   ]
  },
  {
   "cell_type": "code",
   "execution_count": null,
   "metadata": {},
   "outputs": [],
   "source": [
    "def F(a):\n",
    "    def _F(b):\n",
    "        print a, b\n",
    "        return a + b\n",
    "    return _F\n"
   ]
  },
  {
   "cell_type": "code",
   "execution_count": null,
   "metadata": {},
   "outputs": [],
   "source": [
    "F(2)(3)"
   ]
  },
  {
   "cell_type": "code",
   "execution_count": null,
   "metadata": {},
   "outputs": [],
   "source": [
    "eval(hylomorphism(0)(5)(lambda n: n == 0)(lambda n: (n-1, n-1)))(F)"
   ]
  },
  {
   "cell_type": "code",
   "execution_count": null,
   "metadata": {},
   "outputs": [],
   "source": [
    "eval(hylomorphism([])(5)(lambda n: n == 0)(lambda n: (n-1, n-1)))(lambda a: lambda b: [a] + b)"
   ]
  },
  {
   "cell_type": "code",
   "execution_count": null,
   "metadata": {},
   "outputs": [],
   "source": []
  },
  {
   "cell_type": "code",
   "execution_count": null,
   "metadata": {},
   "outputs": [],
   "source": [
    "hylomorphism(0)([1, 2, 3])(lambda n: not n)(lambda n: (n[0], n[1:]))"
   ]
  },
  {
   "cell_type": "code",
   "execution_count": null,
   "metadata": {},
   "outputs": [],
   "source": [
    "hylomorphism([])([1, 2, 3])(lambda n: not n)(lambda n: (n[1:], n[1:]))"
   ]
  },
  {
   "cell_type": "code",
   "execution_count": null,
   "metadata": {},
   "outputs": [],
   "source": [
    "eval(hylomorphism([])([1, 2, 3])(lambda n: not n)(lambda n: (n[1:], n[1:])))(lambda a: lambda b: [a] + b)"
   ]
  },
  {
   "cell_type": "code",
   "execution_count": null,
   "metadata": {},
   "outputs": [],
   "source": []
  },
  {
   "cell_type": "code",
   "execution_count": null,
   "metadata": {},
   "outputs": [],
   "source": []
  },
  {
   "cell_type": "code",
   "execution_count": null,
   "metadata": {},
   "outputs": [],
   "source": []
  },
  {
   "cell_type": "code",
   "execution_count": null,
   "metadata": {},
   "outputs": [],
   "source": [
    "def hylomorphism(c):\n",
    "    return lambda a: lambda P: (\n",
    "        if P(a):\n",
    "            result = lambda F: lambda G: c\n",
    "        else:\n",
    "            result = lambda F: lambda G: (\n",
    "                b, aa = G(a)\n",
    "                return F(b)(H(aa))\n",
    "            )\n",
    "        return result\n",
    "    )\n"
   ]
  },
  {
   "cell_type": "code",
   "execution_count": null,
   "metadata": {},
   "outputs": [],
   "source": [
    "def hylomorphism(c):\n",
    "    return lambda a: (\n",
    "        lambda F: lambda P: lambda G: c\n",
    "        if P(a) else\n",
    "        lambda F: lambda P: lambda G: (\n",
    "            b, aa = G(a)\n",
    "            return F(b)(H(aa))\n",
    "        )\n",
    "    )\n"
   ]
  },
  {
   "cell_type": "code",
   "execution_count": null,
   "metadata": {},
   "outputs": [],
   "source": [
    "def hylomorphism(c):\n",
    "    return lambda a: lambda G: (\n",
    "        lambda F: lambda P: c\n",
    "        if P(a) else\n",
    "        b, aa = G(a)\n",
    "        lambda F: lambda P: F(b)(H(aa))\n",
    "    )\n"
   ]
  }
 ],
 "metadata": {
  "kernelspec": {
   "display_name": "Python 2",
   "language": "python",
   "name": "python2"
  },
  "language_info": {
   "codemirror_mode": {
    "name": "ipython",
    "version": 2
   },
   "file_extension": ".py",
   "mimetype": "text/x-python",
   "name": "python",
   "nbconvert_exporter": "python",
   "pygments_lexer": "ipython2",
   "version": "2.7.15"
  }
 },
 "nbformat": 4,
 "nbformat_minor": 2
}
