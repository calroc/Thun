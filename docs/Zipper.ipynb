{
 "cells": [
  {
   "cell_type": "markdown",
   "metadata": {},
   "source": [
    "# Traversing Datastructures with Zippers\n",
    "This notebook is about using the \"zipper\" with joy datastructures.  See the [Zipper wikipedia entry](https://en.wikipedia.org/wiki/Zipper_%28data_structure%29) or the original paper: [\"FUNCTIONAL PEARL The Zipper\" by Gérard Huet](https://www.st.cs.uni-saarland.de/edu/seminare/2005/advanced-fp/docs/huet-zipper.pdf)\n",
    "\n",
    "\n",
    "Given a datastructure on the stack we can navigate through it, modify it, and rebuild it using the \"zipper\" technique."
   ]
  },
  {
   "cell_type": "markdown",
   "metadata": {},
   "source": [
    "## Trees\n",
    "In Joypy there aren't any complex datastructures, just ints, floats, strings, Symbols (strings that are names of functions) and sequences (aka lists, aka quoted literals, aka aggregates, etc...), but we can build [trees](https://en.wikipedia.org/wiki/Tree_%28data_structure%29) out of sequences."
   ]
  },
  {
   "cell_type": "code",
   "execution_count": 1,
   "metadata": {},
   "outputs": [
    {
     "name": "stdout",
     "output_type": "stream",
     "text": [
      "[1 [2 [3 4 25 6] 7] 8]"
     ]
    }
   ],
   "source": [
    "[1 [2 [3 4 25 6] 7] 8]"
   ]
  },
  {
   "cell_type": "markdown",
   "metadata": {},
   "source": [
    "## Zipper in Joy\n",
    "Zippers work by keeping track of the current item, the already-seen items, and the yet-to-be seen items as you traverse a datastructure (the datastructure used to keep track of these items is the zipper.)\n",
    "\n",
    "In Joy we can do this with the following words:\n",
    "\n",
    "    z-down == [] swap uncons swap\n",
    "    z-up == swons swap shunt\n",
    "    z-right == [swons] cons dip uncons swap\n",
    "    z-left == swons [uncons swap] dip swap\n",
    "\n",
    "Let's use them to change 25 into 625.  The first time a word is used I show the trace so you can see how it works.  If we were going to use these a lot it would make sense to write Python versions for efficiency, but see below."
   ]
  },
  {
   "cell_type": "code",
   "execution_count": 2,
   "metadata": {},
   "outputs": [
    {
     "name": "stdout",
     "output_type": "stream",
     "text": [
      "[1 [2 [3 4 25 6] 7] 8]"
     ]
    }
   ],
   "source": [
    "[z-down [] swap uncons swap] inscribe\n",
    "[z-up swons swap shunt] inscribe\n",
    "[z-right [swons] cons dip uncons swap] inscribe\n",
    "[z-left swons [uncons swap] dip swap] inscribe"
   ]
  },
  {
   "cell_type": "code",
   "execution_count": 3,
   "metadata": {},
   "outputs": [
    {
     "name": "stdout",
     "output_type": "stream",
     "text": [
      "   [1 [2 [3 4 25 6] 7] 8] • z-down\n",
      "   [1 [2 [3 4 25 6] 7] 8] • [] swap uncons swap\n",
      "[1 [2 [3 4 25 6] 7] 8] [] • swap uncons swap\n",
      "[] [1 [2 [3 4 25 6] 7] 8] • uncons swap\n",
      "[] 1 [[2 [3 4 25 6] 7] 8] • swap\n",
      "[] [[2 [3 4 25 6] 7] 8] 1 • \n",
      "\n",
      "[] [[2 [3 4 25 6] 7] 8] 1"
     ]
    }
   ],
   "source": [
    "[z-down] trace"
   ]
  },
  {
   "cell_type": "code",
   "execution_count": 4,
   "metadata": {},
   "outputs": [
    {
     "name": "stdout",
     "output_type": "stream",
     "text": [
      "        [] [[2 [3 4 25 6] 7] 8] 1 • z-right\n",
      "        [] [[2 [3 4 25 6] 7] 8] 1 • [swons] cons dip uncons swap\n",
      "[] [[2 [3 4 25 6] 7] 8] 1 [swons] • cons dip uncons swap\n",
      "[] [[2 [3 4 25 6] 7] 8] [1 swons] • dip uncons swap\n",
      "                               [] • 1 swons [[2 [3 4 25 6] 7] 8] uncons swap\n",
      "                             [] 1 • swons [[2 [3 4 25 6] 7] 8] uncons swap\n",
      "                              [1] • [[2 [3 4 25 6] 7] 8] uncons swap\n",
      "         [1] [[2 [3 4 25 6] 7] 8] • uncons swap\n",
      "         [1] [2 [3 4 25 6] 7] [8] • swap\n",
      "         [1] [8] [2 [3 4 25 6] 7] • \n",
      "\n",
      "[1] [8] [2 [3 4 25 6] 7]"
     ]
    }
   ],
   "source": [
    "[z-right] trace"
   ]
  },
  {
   "cell_type": "code",
   "execution_count": 5,
   "metadata": {},
   "outputs": [
    {
     "name": "stdout",
     "output_type": "stream",
     "text": [
      "[1] [8] [] [[3 4 25 6] 7] 2"
     ]
    }
   ],
   "source": [
    "z-down"
   ]
  },
  {
   "cell_type": "code",
   "execution_count": 6,
   "metadata": {},
   "outputs": [
    {
     "name": "stdout",
     "output_type": "stream",
     "text": [
      "[1] [8] [2] [7] [3 4 25 6]"
     ]
    }
   ],
   "source": [
    "z-right"
   ]
  },
  {
   "cell_type": "code",
   "execution_count": 7,
   "metadata": {},
   "outputs": [
    {
     "name": "stdout",
     "output_type": "stream",
     "text": [
      "[1] [8] [2] [7] [] [4 25 6] 3"
     ]
    }
   ],
   "source": [
    "z-down"
   ]
  },
  {
   "cell_type": "code",
   "execution_count": 8,
   "metadata": {},
   "outputs": [
    {
     "name": "stdout",
     "output_type": "stream",
     "text": [
      "[1] [8] [2] [7] [3] [25 6] 4"
     ]
    }
   ],
   "source": [
    "z-right"
   ]
  },
  {
   "cell_type": "code",
   "execution_count": 9,
   "metadata": {},
   "outputs": [
    {
     "name": "stdout",
     "output_type": "stream",
     "text": [
      "[1] [8] [2] [7] [4 3] [6] 25"
     ]
    }
   ],
   "source": [
    "z-right"
   ]
  },
  {
   "cell_type": "code",
   "execution_count": null,
   "metadata": {},
   "outputs": [],
   "source": [
    "sqr"
   ]
  },
  {
   "cell_type": "code",
   "execution_count": 11,
   "metadata": {},
   "outputs": [
    {
     "name": "stdout",
     "output_type": "stream",
     "text": [
      "!= % & * + ++ - -- / // /floor < << <= <> = > >= >> ^ _Tree_add_Ee _Tree_delete_R0 _Tree_delete_clear_stuff _Tree_get_E abs add and app1 app2 app3 at b bool branch ccons choice clear cmp concat cond cons dip dipd dipdd disenstacken div divmod drop dup dupd dupdd dupdip eq first first_two floor floordiv fourth gcd2 ge genrec getitem gt help i id infra inscribe le loop lshift lt map max min mod modulus mul ne neg not or over parse pick pm pop popd popdd popop popopd popopdd pow pred primrec rem remainder remove rest reverse roll< roll> rolldown rollup round rrest rshift second select sharing shunt sort sqrt stack step stuncons stununcons sub succ sum swaack swap swons take third times trace truthy tuck uncons unique unit unswons void warranty words x xor z-down z-left z-right z-up zip •\n",
      "\n",
      "[1] [8] [2] [7] [4 3] [6] 25"
     ]
    }
   ],
   "source": [
    "words"
   ]
  },
  {
   "cell_type": "code",
   "execution_count": null,
   "metadata": {},
   "outputs": [],
   "source": [
    "[z-up] trace"
   ]
  },
  {
   "cell_type": "code",
   "execution_count": null,
   "metadata": {},
   "outputs": [],
   "source": [
    "z-up"
   ]
  },
  {
   "cell_type": "code",
   "execution_count": null,
   "metadata": {},
   "outputs": [],
   "source": [
    "z-up"
   ]
  },
  {
   "cell_type": "markdown",
   "metadata": {},
   "source": [
    "## `dip` and `infra`\n",
    "In Joy we have the `dip` and `infra` combinators which can \"target\" or \"address\" any particular item in a Joy tree structure."
   ]
  },
  {
   "cell_type": "code",
   "execution_count": null,
   "metadata": {},
   "outputs": [],
   "source": [
    "[[[[[[sqr] dipd] infra] dip] infra] dip] [infra] trace"
   ]
  },
  {
   "cell_type": "markdown",
   "metadata": {},
   "source": [
    "If you read the trace carefully you'll see that about half of it is the `dip` and `infra` combinators de-quoting programs and \"digging\" into the subject datastructure.  Instead of maintaining temporary results on the stack they are pushed into the pending expression (continuation).  When `sqr` has run the rest of the pending expression  rebuilds the datastructure.\n",
    "\n",
    "## `Z`\n",
    "Imagine a function `Z` that accepts a sequence of `dip` and `infra` combinators, a quoted program `[Q]`, and a datastructure to work on.  It would effectively execute the quoted program as if it had been embedded in a nested series of quoted programs, e.g.:\n",
    "\n",
    "       [...] [Q] [dip dip infra dip infra dip infra] Z\n",
    "    -------------------------------------------------------------\n",
    "       [...] [[[[[[[Q] dip] dip] infra] dip] infra] dip] infra\n",
    "       \n",
    "The `Z` function isn't hard to make."
   ]
  },
  {
   "cell_type": "code",
   "execution_count": null,
   "metadata": {},
   "outputs": [],
   "source": [
    "clear"
   ]
  },
  {
   "cell_type": "code",
   "execution_count": null,
   "metadata": {},
   "outputs": [],
   "source": [
    "[Z [[] ccons] step i] inscribe"
   ]
  },
  {
   "cell_type": "markdown",
   "metadata": {},
   "source": [
    "Here it is in action in a simplified scenario."
   ]
  },
  {
   "cell_type": "code",
   "execution_count": null,
   "metadata": {},
   "outputs": [],
   "source": [
    "1 [2 3 4] [Z] trace"
   ]
  },
  {
   "cell_type": "code",
   "execution_count": null,
   "metadata": {},
   "outputs": [],
   "source": [
    "clear"
   ]
  },
  {
   "cell_type": "markdown",
   "metadata": {},
   "source": [
    "And here it is doing the thing."
   ]
  },
  {
   "cell_type": "code",
   "execution_count": null,
   "metadata": {},
   "outputs": [],
   "source": [
    "[1 [2 [3 4 25 6] 7] 8] [sqr] [dip dip infra dip infra dip infra] Z"
   ]
  },
  {
   "cell_type": "markdown",
   "metadata": {},
   "source": [
    "## Addressing\n",
    "Because we are only using two combinators we could replace the list with a string made from only two characters.\n",
    "\n",
    "       [...] [Q] 'ddididi' Zstr\n",
    "    -------------------------------------------------------------\n",
    "       [...] [[[[[[[Q] dip] dip] infra] dip] infra] dip] infra\n",
    "\n",
    "The string can be considered a name or address for an item in the subject datastructure.\n",
    "\n",
    "## Determining the right \"path\" for an item in a tree.\n",
    "It's easy to read off (in reverse) the right sequence of \"d\" and \"i\" from the subject datastructure:\n",
    "\n",
    "    [ n [ n [ n n x ...\n",
    "    i d i d i d d Bingo!"
   ]
  }
 ],
 "metadata": {
  "kernelspec": {
   "display_name": "Joypy",
   "language": "",
   "name": "thun"
  },
  "language_info": {
   "file_extension": ".joy",
   "mimetype": "text/plain",
   "name": "Joy"
  }
 },
 "nbformat": 4,
 "nbformat_minor": 2
}
